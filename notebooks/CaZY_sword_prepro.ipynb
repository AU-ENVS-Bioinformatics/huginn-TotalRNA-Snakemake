{
 "cells": [
  {
   "cell_type": "markdown",
   "id": "4a6a5bb1-1d72-44c8-975d-b2d7a60fa30e",
   "metadata": {},
   "source": [
    "This jupyter notebook does the cleaning, preprocessing and annotation of the OTU table obtained from the TotalRNA pipeline after aligning the mRNA to the CaZY database using SWORD. \n",
    "\n",
    "This notebook relies in the previous CoMW script and it is coupled to a specific version of the database. \n",
    "\n",
    "## How to run Jupyter notebooks in huginn\n",
    "If you use vs-code you can use the [remote ssh extension](https://marketplace.visualstudio.com/items?itemName=ms-vscode-remote.remote-ssh) to connect to huginn and either run jupyterlab in the remote server (so to say, just like you would do in your local computer with `jupyter-lab`) or run directly without opening jupyterlab directly. \n",
    "\n",
    "Otherwise, you can follow the instructions below: \n",
    "\n",
    "1. Turn on VPN\n",
    "2. Open two terminals (let's called A and B)\n",
    "3. With terminal A, connect to huginn with ssh as usual\n",
    "```bash\n",
    "ssh username@huginn.au.dk\n",
    "```\n",
    "4. Move to the directory where you want to work and run jupyter-lab\n",
    "```bash\n",
    "jupyter lab --no-browser --port=7777\n",
    "```\n",
    "5. With terminal B, connect to huginn and forward the port specified port to your local computer\n",
    "```bash\n",
    "ssh -Y -N -L localhost:7777:localhost:7777 username@huginn.au.dk\n",
    "```\n",
    "\n",
    "Please, make sure you have installed the following libraries:"
   ]
  },
  {
   "cell_type": "code",
   "execution_count": 1,
   "id": "3adc7632-b101-4663-8a82-555e0d2851e9",
   "metadata": {
    "tags": []
   },
   "outputs": [],
   "source": [
    "import pandas as pd\n",
    "import matplotlib.pyplot as plt\n",
    "from pathlib import Path\n",
    "import roman"
   ]
  },
  {
   "cell_type": "markdown",
   "id": "463c39ff-2d1a-4427-94ea-8ab9bf1ca64a",
   "metadata": {},
   "source": [
    "## Read SWORD file\n",
    "Our input is a bm9 file, which is not exactly a csv file. The easiest way to read it as a CSV file is to create a temporary file. "
   ]
  },
  {
   "cell_type": "code",
   "execution_count": 2,
   "id": "5362cfc6-39db-4a30-8b8d-c71e4e96201d",
   "metadata": {
    "tags": []
   },
   "outputs": [
    {
     "name": "stdout",
     "output_type": "stream",
     "text": [
      "# Fields:\n",
      "Query id,Subject id,% identity,alignment length,mismatches,gap openings,q. start,q. end,s. start,s. end,e-value,score\n",
      "TRINITY_DN13529_c0_g1_i4_6\tCDU22272.1|GH16\t24\t266\t170\t8\t169\t424\t134\t378\t0.01\t116\n",
      "TRINITY_DN13529_c0_g1_i4_6\tBAA36223.1|GH18|3.2.1.14\t25\t281\t163\t9\t173\t442\t346\t589\t0.03\t112\n",
      "TRINITY_DN13529_c0_g1_i4_6\tEAA58979.1|GH18|3.2.1.14\t25\t281\t163\t9\t173\t442\t346\t589\t0.03\t112\n",
      "TRINITY_DN13529_c0_g1_i4_6\tAAF50522.3|GH22\t21\t538\t333\t26\t14\t491\t768\t1275\t1.78\t96\n",
      "TRINITY_DN13529_c0_g1_i4_6\tAAF45644.1|CBM14\t22\t365\t219\t18\t33\t384\t786\t1099\t3.87\t93\n",
      "TRINITY_DN13529_c0_g1_i4_6\tALC44602.1|CBM14\t21\t627\t387\t33\t5\t580\t198\t764\t5.40\t91\n",
      "TRINITY_DN13529_c0_g1_i4_6\tANB13825.1|GH16\t23\t298\t182\t10\t157\t445\t267\t526\t7.60\t89\n",
      "# Fields:\n"
     ]
    }
   ],
   "source": [
    "aligned_bm9 = '../results/mRNA/sword/SWORD_CAZy_result.bm9'\n",
    "!head ../results/mRNA/sword/SWORD_CAZy_result.bm9"
   ]
  },
  {
   "cell_type": "code",
   "execution_count": 3,
   "id": "0ff2d86f-7fb1-4b3d-9144-7e65897681c2",
   "metadata": {
    "tags": []
   },
   "outputs": [],
   "source": [
    "%%bash\n",
    "grep -v \"Query id,\" < ../results/mRNA/sword/SWORD_CAZy_result.bm9 >  temp_SWORD_CAZy_result.csv"
   ]
  },
  {
   "cell_type": "code",
   "execution_count": 4,
   "id": "cb23723b-f70c-406b-849e-8635378d9c13",
   "metadata": {
    "tags": []
   },
   "outputs": [],
   "source": [
    "sword = pd.read_csv(\n",
    "    'temp_SWORD_CAZy_result.csv',delimiter='\\t',comment='#', header=None,\n",
    "    names= ['Query id', 'Subject id', '% identity', 'alignment length', \n",
    "             'mismatches','gap openings','q. start', 'q. end',\n",
    "             's. start', 's. end', 'e-value', 'score'\n",
    "            ]\n",
    ")"
   ]
  },
  {
   "cell_type": "code",
   "execution_count": 5,
   "id": "16c63f4a-8e0a-422e-ae5c-da9650de686a",
   "metadata": {
    "tags": []
   },
   "outputs": [],
   "source": [
    "%%bash\n",
    "rm  temp_SWORD_CAZy_result.csv"
   ]
  },
  {
   "cell_type": "markdown",
   "id": "c6647858-4431-4377-8517-4458efa6a375",
   "metadata": {},
   "source": [
    "Now, we have a table with all the alignments between our \"genes\" and the database."
   ]
  },
  {
   "cell_type": "code",
   "execution_count": 6,
   "id": "9344c348-b68d-41cf-a049-cd4f05ecb2c5",
   "metadata": {
    "tags": []
   },
   "outputs": [
    {
     "data": {
      "text/html": [
       "<div>\n",
       "<style scoped>\n",
       "    .dataframe tbody tr th:only-of-type {\n",
       "        vertical-align: middle;\n",
       "    }\n",
       "\n",
       "    .dataframe tbody tr th {\n",
       "        vertical-align: top;\n",
       "    }\n",
       "\n",
       "    .dataframe thead th {\n",
       "        text-align: right;\n",
       "    }\n",
       "</style>\n",
       "<table border=\"1\" class=\"dataframe\">\n",
       "  <thead>\n",
       "    <tr style=\"text-align: right;\">\n",
       "      <th></th>\n",
       "      <th>Query id</th>\n",
       "      <th>Subject id</th>\n",
       "      <th>% identity</th>\n",
       "      <th>alignment length</th>\n",
       "      <th>mismatches</th>\n",
       "      <th>gap openings</th>\n",
       "      <th>q. start</th>\n",
       "      <th>q. end</th>\n",
       "      <th>s. start</th>\n",
       "      <th>s. end</th>\n",
       "      <th>e-value</th>\n",
       "      <th>score</th>\n",
       "    </tr>\n",
       "  </thead>\n",
       "  <tbody>\n",
       "    <tr>\n",
       "      <th>0</th>\n",
       "      <td>TRINITY_DN13529_c0_g1_i4_6</td>\n",
       "      <td>CDU22272.1|GH16</td>\n",
       "      <td>24</td>\n",
       "      <td>266</td>\n",
       "      <td>170</td>\n",
       "      <td>8</td>\n",
       "      <td>169</td>\n",
       "      <td>424</td>\n",
       "      <td>134</td>\n",
       "      <td>378</td>\n",
       "      <td>0.01</td>\n",
       "      <td>116</td>\n",
       "    </tr>\n",
       "    <tr>\n",
       "      <th>1</th>\n",
       "      <td>TRINITY_DN13529_c0_g1_i4_6</td>\n",
       "      <td>BAA36223.1|GH18|3.2.1.14</td>\n",
       "      <td>25</td>\n",
       "      <td>281</td>\n",
       "      <td>163</td>\n",
       "      <td>9</td>\n",
       "      <td>173</td>\n",
       "      <td>442</td>\n",
       "      <td>346</td>\n",
       "      <td>589</td>\n",
       "      <td>0.03</td>\n",
       "      <td>112</td>\n",
       "    </tr>\n",
       "    <tr>\n",
       "      <th>2</th>\n",
       "      <td>TRINITY_DN13529_c0_g1_i4_6</td>\n",
       "      <td>EAA58979.1|GH18|3.2.1.14</td>\n",
       "      <td>25</td>\n",
       "      <td>281</td>\n",
       "      <td>163</td>\n",
       "      <td>9</td>\n",
       "      <td>173</td>\n",
       "      <td>442</td>\n",
       "      <td>346</td>\n",
       "      <td>589</td>\n",
       "      <td>0.03</td>\n",
       "      <td>112</td>\n",
       "    </tr>\n",
       "    <tr>\n",
       "      <th>3</th>\n",
       "      <td>TRINITY_DN13529_c0_g1_i4_6</td>\n",
       "      <td>AAF50522.3|GH22</td>\n",
       "      <td>21</td>\n",
       "      <td>538</td>\n",
       "      <td>333</td>\n",
       "      <td>26</td>\n",
       "      <td>14</td>\n",
       "      <td>491</td>\n",
       "      <td>768</td>\n",
       "      <td>1275</td>\n",
       "      <td>1.78</td>\n",
       "      <td>96</td>\n",
       "    </tr>\n",
       "    <tr>\n",
       "      <th>4</th>\n",
       "      <td>TRINITY_DN13529_c0_g1_i4_6</td>\n",
       "      <td>AAF45644.1|CBM14</td>\n",
       "      <td>22</td>\n",
       "      <td>365</td>\n",
       "      <td>219</td>\n",
       "      <td>18</td>\n",
       "      <td>33</td>\n",
       "      <td>384</td>\n",
       "      <td>786</td>\n",
       "      <td>1099</td>\n",
       "      <td>3.87</td>\n",
       "      <td>93</td>\n",
       "    </tr>\n",
       "    <tr>\n",
       "      <th>...</th>\n",
       "      <td>...</td>\n",
       "      <td>...</td>\n",
       "      <td>...</td>\n",
       "      <td>...</td>\n",
       "      <td>...</td>\n",
       "      <td>...</td>\n",
       "      <td>...</td>\n",
       "      <td>...</td>\n",
       "      <td>...</td>\n",
       "      <td>...</td>\n",
       "      <td>...</td>\n",
       "      <td>...</td>\n",
       "    </tr>\n",
       "    <tr>\n",
       "      <th>1167850</th>\n",
       "      <td>TRINITY_DN59565_c0_g1_i1_2</td>\n",
       "      <td>AEM86141.1|CE4</td>\n",
       "      <td>50</td>\n",
       "      <td>26</td>\n",
       "      <td>12</td>\n",
       "      <td>1</td>\n",
       "      <td>41</td>\n",
       "      <td>66</td>\n",
       "      <td>343</td>\n",
       "      <td>367</td>\n",
       "      <td>8.06</td>\n",
       "      <td>67</td>\n",
       "    </tr>\n",
       "    <tr>\n",
       "      <th>1167851</th>\n",
       "      <td>TRINITY_DN59565_c0_g1_i1_2</td>\n",
       "      <td>AEM86141.1|GT2</td>\n",
       "      <td>50</td>\n",
       "      <td>26</td>\n",
       "      <td>12</td>\n",
       "      <td>1</td>\n",
       "      <td>41</td>\n",
       "      <td>66</td>\n",
       "      <td>343</td>\n",
       "      <td>367</td>\n",
       "      <td>8.06</td>\n",
       "      <td>67</td>\n",
       "    </tr>\n",
       "    <tr>\n",
       "      <th>1167852</th>\n",
       "      <td>TRINITY_DN59565_c0_g1_i1_2</td>\n",
       "      <td>AEI46304.1|GH43_9</td>\n",
       "      <td>48</td>\n",
       "      <td>31</td>\n",
       "      <td>12</td>\n",
       "      <td>2</td>\n",
       "      <td>17</td>\n",
       "      <td>43</td>\n",
       "      <td>315</td>\n",
       "      <td>345</td>\n",
       "      <td>9.41</td>\n",
       "      <td>66</td>\n",
       "    </tr>\n",
       "    <tr>\n",
       "      <th>1167853</th>\n",
       "      <td>TRINITY_DN59565_c0_g1_i1_2</td>\n",
       "      <td>AFC33907.1|GH43_9</td>\n",
       "      <td>48</td>\n",
       "      <td>31</td>\n",
       "      <td>12</td>\n",
       "      <td>2</td>\n",
       "      <td>17</td>\n",
       "      <td>43</td>\n",
       "      <td>315</td>\n",
       "      <td>345</td>\n",
       "      <td>9.41</td>\n",
       "      <td>66</td>\n",
       "    </tr>\n",
       "    <tr>\n",
       "      <th>1167854</th>\n",
       "      <td>TRINITY_DN59565_c0_g1_i1_2</td>\n",
       "      <td>AFH66240.1|GH43_9</td>\n",
       "      <td>48</td>\n",
       "      <td>31</td>\n",
       "      <td>12</td>\n",
       "      <td>2</td>\n",
       "      <td>17</td>\n",
       "      <td>43</td>\n",
       "      <td>315</td>\n",
       "      <td>345</td>\n",
       "      <td>9.41</td>\n",
       "      <td>66</td>\n",
       "    </tr>\n",
       "  </tbody>\n",
       "</table>\n",
       "<p>1167855 rows × 12 columns</p>\n",
       "</div>"
      ],
      "text/plain": [
       "                           Query id                Subject id  % identity  \\\n",
       "0        TRINITY_DN13529_c0_g1_i4_6           CDU22272.1|GH16          24   \n",
       "1        TRINITY_DN13529_c0_g1_i4_6  BAA36223.1|GH18|3.2.1.14          25   \n",
       "2        TRINITY_DN13529_c0_g1_i4_6  EAA58979.1|GH18|3.2.1.14          25   \n",
       "3        TRINITY_DN13529_c0_g1_i4_6           AAF50522.3|GH22          21   \n",
       "4        TRINITY_DN13529_c0_g1_i4_6          AAF45644.1|CBM14          22   \n",
       "...                             ...                       ...         ...   \n",
       "1167850  TRINITY_DN59565_c0_g1_i1_2            AEM86141.1|CE4          50   \n",
       "1167851  TRINITY_DN59565_c0_g1_i1_2            AEM86141.1|GT2          50   \n",
       "1167852  TRINITY_DN59565_c0_g1_i1_2         AEI46304.1|GH43_9          48   \n",
       "1167853  TRINITY_DN59565_c0_g1_i1_2         AFC33907.1|GH43_9          48   \n",
       "1167854  TRINITY_DN59565_c0_g1_i1_2         AFH66240.1|GH43_9          48   \n",
       "\n",
       "         alignment length  mismatches  gap openings  q. start  q. end  \\\n",
       "0                     266         170             8       169     424   \n",
       "1                     281         163             9       173     442   \n",
       "2                     281         163             9       173     442   \n",
       "3                     538         333            26        14     491   \n",
       "4                     365         219            18        33     384   \n",
       "...                   ...         ...           ...       ...     ...   \n",
       "1167850                26          12             1        41      66   \n",
       "1167851                26          12             1        41      66   \n",
       "1167852                31          12             2        17      43   \n",
       "1167853                31          12             2        17      43   \n",
       "1167854                31          12             2        17      43   \n",
       "\n",
       "         s. start  s. end  e-value  score  \n",
       "0             134     378     0.01    116  \n",
       "1             346     589     0.03    112  \n",
       "2             346     589     0.03    112  \n",
       "3             768    1275     1.78     96  \n",
       "4             786    1099     3.87     93  \n",
       "...           ...     ...      ...    ...  \n",
       "1167850       343     367     8.06     67  \n",
       "1167851       343     367     8.06     67  \n",
       "1167852       315     345     9.41     66  \n",
       "1167853       315     345     9.41     66  \n",
       "1167854       315     345     9.41     66  \n",
       "\n",
       "[1167855 rows x 12 columns]"
      ]
     },
     "execution_count": 6,
     "metadata": {},
     "output_type": "execute_result"
    }
   ],
   "source": [
    "sword"
   ]
  },
  {
   "cell_type": "markdown",
   "id": "acb7eaac-8b2a-462b-b5b4-6aa754e097b4",
   "metadata": {},
   "source": [
    "## Read count table\n",
    "However, we also need to read the count table:"
   ]
  },
  {
   "cell_type": "code",
   "execution_count": 7,
   "id": "b9d87d9f-8c5b-4030-82d6-66800462b42e",
   "metadata": {
    "tags": []
   },
   "outputs": [
    {
     "name": "stdout",
     "output_type": "stream",
     "text": [
      "ContigID\tKatie45\tKatie54\tKatie32\tKatie25\n",
      "TRINITY_DN16047_c0_g1_i1\t3\t0\t2\t2\n",
      "TRINITY_DN3406_c0_g1_i2\t0\t37\t0\t4\n",
      "TRINITY_DN6613_c4_g1_i2\t4\t18\t0\t0\n",
      "TRINITY_DN5543_c0_g1_i2\t3\t0\t4\t3\n",
      "TRINITY_DN60437_c0_g1_i1\t0\t10\t0\t1\n",
      "TRINITY_DN573_c0_g1_i1\t0\t51\t2\t2\n",
      "TRINITY_DN61772_c0_g1_i1\t0\t8\t0\t0\n",
      "TRINITY_DN15263_c0_g1_i1\t0\t7\t0\t2\n",
      "TRINITY_DN2319_c0_g1_i9\t48\t0\t8\t27\n"
     ]
    }
   ],
   "source": [
    "counts_tsv = '../results/mRNA/mapped_reads_to_contigs_AbundanceFiltered.tsv'\n",
    "! head ../results/mRNA/mapped_reads_to_contigs_AbundanceFiltered.tsv"
   ]
  },
  {
   "cell_type": "code",
   "execution_count": 8,
   "id": "1de1ed51-14aa-49f4-a361-87b7b572ada3",
   "metadata": {
    "tags": []
   },
   "outputs": [
    {
     "data": {
      "text/html": [
       "<div>\n",
       "<style scoped>\n",
       "    .dataframe tbody tr th:only-of-type {\n",
       "        vertical-align: middle;\n",
       "    }\n",
       "\n",
       "    .dataframe tbody tr th {\n",
       "        vertical-align: top;\n",
       "    }\n",
       "\n",
       "    .dataframe thead th {\n",
       "        text-align: right;\n",
       "    }\n",
       "</style>\n",
       "<table border=\"1\" class=\"dataframe\">\n",
       "  <thead>\n",
       "    <tr style=\"text-align: right;\">\n",
       "      <th></th>\n",
       "      <th>Katie45</th>\n",
       "      <th>Katie54</th>\n",
       "      <th>Katie32</th>\n",
       "      <th>Katie25</th>\n",
       "    </tr>\n",
       "    <tr>\n",
       "      <th>ContigID</th>\n",
       "      <th></th>\n",
       "      <th></th>\n",
       "      <th></th>\n",
       "      <th></th>\n",
       "    </tr>\n",
       "  </thead>\n",
       "  <tbody>\n",
       "    <tr>\n",
       "      <th>TRINITY_DN16047_c0_g1_i1</th>\n",
       "      <td>3</td>\n",
       "      <td>0</td>\n",
       "      <td>2</td>\n",
       "      <td>2</td>\n",
       "    </tr>\n",
       "    <tr>\n",
       "      <th>TRINITY_DN3406_c0_g1_i2</th>\n",
       "      <td>0</td>\n",
       "      <td>37</td>\n",
       "      <td>0</td>\n",
       "      <td>4</td>\n",
       "    </tr>\n",
       "    <tr>\n",
       "      <th>TRINITY_DN6613_c4_g1_i2</th>\n",
       "      <td>4</td>\n",
       "      <td>18</td>\n",
       "      <td>0</td>\n",
       "      <td>0</td>\n",
       "    </tr>\n",
       "    <tr>\n",
       "      <th>TRINITY_DN5543_c0_g1_i2</th>\n",
       "      <td>3</td>\n",
       "      <td>0</td>\n",
       "      <td>4</td>\n",
       "      <td>3</td>\n",
       "    </tr>\n",
       "    <tr>\n",
       "      <th>TRINITY_DN60437_c0_g1_i1</th>\n",
       "      <td>0</td>\n",
       "      <td>10</td>\n",
       "      <td>0</td>\n",
       "      <td>1</td>\n",
       "    </tr>\n",
       "    <tr>\n",
       "      <th>...</th>\n",
       "      <td>...</td>\n",
       "      <td>...</td>\n",
       "      <td>...</td>\n",
       "      <td>...</td>\n",
       "    </tr>\n",
       "    <tr>\n",
       "      <th>TRINITY_DN48454_c0_g1_i1</th>\n",
       "      <td>4</td>\n",
       "      <td>0</td>\n",
       "      <td>4</td>\n",
       "      <td>2</td>\n",
       "    </tr>\n",
       "    <tr>\n",
       "      <th>TRINITY_DN41188_c0_g1_i1</th>\n",
       "      <td>2</td>\n",
       "      <td>0</td>\n",
       "      <td>2</td>\n",
       "      <td>2</td>\n",
       "    </tr>\n",
       "    <tr>\n",
       "      <th>TRINITY_DN7932_c0_g2_i1</th>\n",
       "      <td>4</td>\n",
       "      <td>0</td>\n",
       "      <td>2</td>\n",
       "      <td>7</td>\n",
       "    </tr>\n",
       "    <tr>\n",
       "      <th>TRINITY_DN46789_c0_g1_i1</th>\n",
       "      <td>0</td>\n",
       "      <td>42</td>\n",
       "      <td>0</td>\n",
       "      <td>0</td>\n",
       "    </tr>\n",
       "    <tr>\n",
       "      <th>TRINITY_DN82_c0_g1_i6</th>\n",
       "      <td>16</td>\n",
       "      <td>2</td>\n",
       "      <td>9</td>\n",
       "      <td>71</td>\n",
       "    </tr>\n",
       "  </tbody>\n",
       "</table>\n",
       "<p>54009 rows × 4 columns</p>\n",
       "</div>"
      ],
      "text/plain": [
       "                          Katie45  Katie54  Katie32  Katie25\n",
       "ContigID                                                    \n",
       "TRINITY_DN16047_c0_g1_i1        3        0        2        2\n",
       "TRINITY_DN3406_c0_g1_i2         0       37        0        4\n",
       "TRINITY_DN6613_c4_g1_i2         4       18        0        0\n",
       "TRINITY_DN5543_c0_g1_i2         3        0        4        3\n",
       "TRINITY_DN60437_c0_g1_i1        0       10        0        1\n",
       "...                           ...      ...      ...      ...\n",
       "TRINITY_DN48454_c0_g1_i1        4        0        4        2\n",
       "TRINITY_DN41188_c0_g1_i1        2        0        2        2\n",
       "TRINITY_DN7932_c0_g2_i1         4        0        2        7\n",
       "TRINITY_DN46789_c0_g1_i1        0       42        0        0\n",
       "TRINITY_DN82_c0_g1_i6          16        2        9       71\n",
       "\n",
       "[54009 rows x 4 columns]"
      ]
     },
     "execution_count": 8,
     "metadata": {},
     "output_type": "execute_result"
    }
   ],
   "source": [
    "counts = pd.read_csv(\n",
    "    counts_tsv, sep = \"\\t\", comment='#'\n",
    ").set_index('ContigID')\n",
    "counts"
   ]
  },
  {
   "cell_type": "markdown",
   "id": "1d39dd81-6d5e-4a09-a128-1c9aaac4734c",
   "metadata": {},
   "source": [
    "## Preprocessing\n",
    "### Most significant hit per Contig\n",
    "\n",
    "Before using Sword, we used transeq to obtain each possible ORF. Let's create a column with the gene name. That is, without the last 2 characters (_ 1, _ 2...) that encode the ORF."
   ]
  },
  {
   "cell_type": "code",
   "execution_count": 9,
   "id": "c6d7ec76-102f-413b-8a19-26e290654273",
   "metadata": {
    "tags": []
   },
   "outputs": [
    {
     "data": {
      "text/plain": [
       "0          TRINITY_DN13529_c0_g1_i4\n",
       "1          TRINITY_DN13529_c0_g1_i4\n",
       "2          TRINITY_DN13529_c0_g1_i4\n",
       "3          TRINITY_DN13529_c0_g1_i4\n",
       "4          TRINITY_DN13529_c0_g1_i4\n",
       "                     ...           \n",
       "1167850    TRINITY_DN59565_c0_g1_i1\n",
       "1167851    TRINITY_DN59565_c0_g1_i1\n",
       "1167852    TRINITY_DN59565_c0_g1_i1\n",
       "1167853    TRINITY_DN59565_c0_g1_i1\n",
       "1167854    TRINITY_DN59565_c0_g1_i1\n",
       "Name: ContigID, Length: 1167855, dtype: object"
      ]
     },
     "execution_count": 9,
     "metadata": {},
     "output_type": "execute_result"
    }
   ],
   "source": [
    "sword['ContigID'] = sword['Query id'].str.replace('_[1-6]$', '', regex=True)\n",
    "sword['ContigID']"
   ]
  },
  {
   "cell_type": "markdown",
   "id": "b9cdb35f-ba57-4013-ae61-33928f3adcdd",
   "metadata": {},
   "source": [
    "Now, we need to get the most significant hit per each contig ID. Let's inspect how many hits there are per contig (adjust the number of bins). "
   ]
  },
  {
   "cell_type": "code",
   "execution_count": 10,
   "id": "3d5b07e5-d340-440d-831e-3bc6c179a28b",
   "metadata": {
    "tags": []
   },
   "outputs": [
    {
     "data": {
      "text/plain": [
       "Text(0.5, 1.0, 'Number of hits per contig')"
      ]
     },
     "execution_count": 10,
     "metadata": {},
     "output_type": "execute_result"
    },
    {
     "data": {
      "image/png": "[encoded data removed]",
      "text/plain": [
       "<Figure size 640x480 with 1 Axes>"
      ]
     },
     "metadata": {},
     "output_type": "display_data"
    }
   ],
   "source": [
    "sword.pivot_table(columns=['ContigID'], aggfunc='size').hist(bins = 25)\n",
    "plt.title(\"Number of hits per contig\")"
   ]
  },
  {
   "cell_type": "markdown",
   "id": "43813411-8fac-4ad8-b9b6-bf21d90f8122",
   "metadata": {},
   "source": [
    "In this case, we are going to sort rows per e-value and score and get the most significant hit per each ContigId."
   ]
  },
  {
   "cell_type": "code",
   "execution_count": 11,
   "id": "3f78c5d5-1e49-4406-9c93-950b3eb35c35",
   "metadata": {
    "tags": []
   },
   "outputs": [
    {
     "data": {
      "text/html": [
       "<div>\n",
       "<style scoped>\n",
       "    .dataframe tbody tr th:only-of-type {\n",
       "        vertical-align: middle;\n",
       "    }\n",
       "\n",
       "    .dataframe tbody tr th {\n",
       "        vertical-align: top;\n",
       "    }\n",
       "\n",
       "    .dataframe thead th {\n",
       "        text-align: right;\n",
       "    }\n",
       "</style>\n",
       "<table border=\"1\" class=\"dataframe\">\n",
       "  <thead>\n",
       "    <tr style=\"text-align: right;\">\n",
       "      <th></th>\n",
       "      <th>Query id</th>\n",
       "      <th>Subject id</th>\n",
       "      <th>% identity</th>\n",
       "      <th>alignment length</th>\n",
       "      <th>mismatches</th>\n",
       "      <th>gap openings</th>\n",
       "      <th>q. start</th>\n",
       "      <th>q. end</th>\n",
       "      <th>s. start</th>\n",
       "      <th>s. end</th>\n",
       "      <th>e-value</th>\n",
       "      <th>score</th>\n",
       "    </tr>\n",
       "    <tr>\n",
       "      <th>ContigID</th>\n",
       "      <th></th>\n",
       "      <th></th>\n",
       "      <th></th>\n",
       "      <th></th>\n",
       "      <th></th>\n",
       "      <th></th>\n",
       "      <th></th>\n",
       "      <th></th>\n",
       "      <th></th>\n",
       "      <th></th>\n",
       "      <th></th>\n",
       "      <th></th>\n",
       "    </tr>\n",
       "  </thead>\n",
       "  <tbody>\n",
       "    <tr>\n",
       "      <th>TRINITY_DN737_c0_g1_i7</th>\n",
       "      <td>TRINITY_DN737_c0_g1_i7_3</td>\n",
       "      <td>AAM83096.1|GT2</td>\n",
       "      <td>72</td>\n",
       "      <td>1160</td>\n",
       "      <td>273</td>\n",
       "      <td>20</td>\n",
       "      <td>75</td>\n",
       "      <td>1208</td>\n",
       "      <td>1</td>\n",
       "      <td>1129</td>\n",
       "      <td>0.00</td>\n",
       "      <td>4350</td>\n",
       "    </tr>\n",
       "    <tr>\n",
       "      <th>TRINITY_DN737_c0_g1_i2</th>\n",
       "      <td>TRINITY_DN737_c0_g1_i2_3</td>\n",
       "      <td>AAM83096.1|GT2</td>\n",
       "      <td>71</td>\n",
       "      <td>1160</td>\n",
       "      <td>278</td>\n",
       "      <td>20</td>\n",
       "      <td>75</td>\n",
       "      <td>1208</td>\n",
       "      <td>1</td>\n",
       "      <td>1129</td>\n",
       "      <td>0.00</td>\n",
       "      <td>4321</td>\n",
       "    </tr>\n",
       "    <tr>\n",
       "      <th>TRINITY_DN737_c0_g1_i1</th>\n",
       "      <td>TRINITY_DN737_c0_g1_i1_3</td>\n",
       "      <td>AAM83096.1|GT2</td>\n",
       "      <td>71</td>\n",
       "      <td>1137</td>\n",
       "      <td>272</td>\n",
       "      <td>20</td>\n",
       "      <td>75</td>\n",
       "      <td>1185</td>\n",
       "      <td>1</td>\n",
       "      <td>1106</td>\n",
       "      <td>0.00</td>\n",
       "      <td>4222</td>\n",
       "    </tr>\n",
       "    <tr>\n",
       "      <th>TRINITY_DN2220_c0_g1_i1</th>\n",
       "      <td>TRINITY_DN2220_c0_g1_i1_2</td>\n",
       "      <td>BAZ22996.1|GT35</td>\n",
       "      <td>79</td>\n",
       "      <td>849</td>\n",
       "      <td>177</td>\n",
       "      <td>1</td>\n",
       "      <td>384</td>\n",
       "      <td>1231</td>\n",
       "      <td>3</td>\n",
       "      <td>851</td>\n",
       "      <td>0.00</td>\n",
       "      <td>3600</td>\n",
       "    </tr>\n",
       "    <tr>\n",
       "      <th>TRINITY_DN2220_c0_g1_i5</th>\n",
       "      <td>TRINITY_DN2220_c0_g1_i5_2</td>\n",
       "      <td>BAZ22996.1|GT35</td>\n",
       "      <td>79</td>\n",
       "      <td>849</td>\n",
       "      <td>177</td>\n",
       "      <td>1</td>\n",
       "      <td>390</td>\n",
       "      <td>1237</td>\n",
       "      <td>3</td>\n",
       "      <td>851</td>\n",
       "      <td>0.00</td>\n",
       "      <td>3600</td>\n",
       "    </tr>\n",
       "    <tr>\n",
       "      <th>...</th>\n",
       "      <td>...</td>\n",
       "      <td>...</td>\n",
       "      <td>...</td>\n",
       "      <td>...</td>\n",
       "      <td>...</td>\n",
       "      <td>...</td>\n",
       "      <td>...</td>\n",
       "      <td>...</td>\n",
       "      <td>...</td>\n",
       "      <td>...</td>\n",
       "      <td>...</td>\n",
       "      <td>...</td>\n",
       "    </tr>\n",
       "    <tr>\n",
       "      <th>TRINITY_DN7563_c1_g2_i1</th>\n",
       "      <td>TRINITY_DN7563_c1_g2_i1_1</td>\n",
       "      <td>AAK13500.1|GT21|2.4.1.-</td>\n",
       "      <td>26</td>\n",
       "      <td>89</td>\n",
       "      <td>54</td>\n",
       "      <td>3</td>\n",
       "      <td>12</td>\n",
       "      <td>95</td>\n",
       "      <td>80</td>\n",
       "      <td>161</td>\n",
       "      <td>9.99</td>\n",
       "      <td>68</td>\n",
       "    </tr>\n",
       "    <tr>\n",
       "      <th>TRINITY_DN11159_c0_g1_i1</th>\n",
       "      <td>TRINITY_DN11159_c0_g1_i1_5</td>\n",
       "      <td>CCG01471.1|GT51</td>\n",
       "      <td>44</td>\n",
       "      <td>32</td>\n",
       "      <td>18</td>\n",
       "      <td>0</td>\n",
       "      <td>12</td>\n",
       "      <td>43</td>\n",
       "      <td>683</td>\n",
       "      <td>714</td>\n",
       "      <td>9.99</td>\n",
       "      <td>67</td>\n",
       "    </tr>\n",
       "    <tr>\n",
       "      <th>TRINITY_DN25731_c0_g1_i1</th>\n",
       "      <td>TRINITY_DN25731_c0_g1_i1_1</td>\n",
       "      <td>AKO44562.1|GT41</td>\n",
       "      <td>35</td>\n",
       "      <td>62</td>\n",
       "      <td>32</td>\n",
       "      <td>3</td>\n",
       "      <td>9</td>\n",
       "      <td>64</td>\n",
       "      <td>160</td>\n",
       "      <td>219</td>\n",
       "      <td>9.99</td>\n",
       "      <td>67</td>\n",
       "    </tr>\n",
       "    <tr>\n",
       "      <th>TRINITY_DN4379_c1_g1_i1</th>\n",
       "      <td>TRINITY_DN4379_c1_g1_i1_1</td>\n",
       "      <td>AAZ58719.1|GT4</td>\n",
       "      <td>41</td>\n",
       "      <td>29</td>\n",
       "      <td>14</td>\n",
       "      <td>1</td>\n",
       "      <td>1</td>\n",
       "      <td>26</td>\n",
       "      <td>386</td>\n",
       "      <td>414</td>\n",
       "      <td>10.00</td>\n",
       "      <td>67</td>\n",
       "    </tr>\n",
       "    <tr>\n",
       "      <th>TRINITY_DN39147_c0_g1_i1</th>\n",
       "      <td>TRINITY_DN39147_c0_g1_i1_5</td>\n",
       "      <td>ACD16651.1|GT2</td>\n",
       "      <td>34</td>\n",
       "      <td>47</td>\n",
       "      <td>31</td>\n",
       "      <td>0</td>\n",
       "      <td>6</td>\n",
       "      <td>52</td>\n",
       "      <td>21</td>\n",
       "      <td>67</td>\n",
       "      <td>10.00</td>\n",
       "      <td>66</td>\n",
       "    </tr>\n",
       "  </tbody>\n",
       "</table>\n",
       "<p>65931 rows × 12 columns</p>\n",
       "</div>"
      ],
      "text/plain": [
       "                                            Query id               Subject id  \\\n",
       "ContigID                                                                        \n",
       "TRINITY_DN737_c0_g1_i7      TRINITY_DN737_c0_g1_i7_3           AAM83096.1|GT2   \n",
       "TRINITY_DN737_c0_g1_i2      TRINITY_DN737_c0_g1_i2_3           AAM83096.1|GT2   \n",
       "TRINITY_DN737_c0_g1_i1      TRINITY_DN737_c0_g1_i1_3           AAM83096.1|GT2   \n",
       "TRINITY_DN2220_c0_g1_i1    TRINITY_DN2220_c0_g1_i1_2          BAZ22996.1|GT35   \n",
       "TRINITY_DN2220_c0_g1_i5    TRINITY_DN2220_c0_g1_i5_2          BAZ22996.1|GT35   \n",
       "...                                              ...                      ...   \n",
       "TRINITY_DN7563_c1_g2_i1    TRINITY_DN7563_c1_g2_i1_1  AAK13500.1|GT21|2.4.1.-   \n",
       "TRINITY_DN11159_c0_g1_i1  TRINITY_DN11159_c0_g1_i1_5          CCG01471.1|GT51   \n",
       "TRINITY_DN25731_c0_g1_i1  TRINITY_DN25731_c0_g1_i1_1          AKO44562.1|GT41   \n",
       "TRINITY_DN4379_c1_g1_i1    TRINITY_DN4379_c1_g1_i1_1           AAZ58719.1|GT4   \n",
       "TRINITY_DN39147_c0_g1_i1  TRINITY_DN39147_c0_g1_i1_5           ACD16651.1|GT2   \n",
       "\n",
       "                          % identity  alignment length  mismatches  \\\n",
       "ContigID                                                             \n",
       "TRINITY_DN737_c0_g1_i7            72              1160         273   \n",
       "TRINITY_DN737_c0_g1_i2            71              1160         278   \n",
       "TRINITY_DN737_c0_g1_i1            71              1137         272   \n",
       "TRINITY_DN2220_c0_g1_i1           79               849         177   \n",
       "TRINITY_DN2220_c0_g1_i5           79               849         177   \n",
       "...                              ...               ...         ...   \n",
       "TRINITY_DN7563_c1_g2_i1           26                89          54   \n",
       "TRINITY_DN11159_c0_g1_i1          44                32          18   \n",
       "TRINITY_DN25731_c0_g1_i1          35                62          32   \n",
       "TRINITY_DN4379_c1_g1_i1           41                29          14   \n",
       "TRINITY_DN39147_c0_g1_i1          34                47          31   \n",
       "\n",
       "                          gap openings  q. start  q. end  s. start  s. end  \\\n",
       "ContigID                                                                     \n",
       "TRINITY_DN737_c0_g1_i7              20        75    1208         1    1129   \n",
       "TRINITY_DN737_c0_g1_i2              20        75    1208         1    1129   \n",
       "TRINITY_DN737_c0_g1_i1              20        75    1185         1    1106   \n",
       "TRINITY_DN2220_c0_g1_i1              1       384    1231         3     851   \n",
       "TRINITY_DN2220_c0_g1_i5              1       390    1237         3     851   \n",
       "...                                ...       ...     ...       ...     ...   \n",
       "TRINITY_DN7563_c1_g2_i1              3        12      95        80     161   \n",
       "TRINITY_DN11159_c0_g1_i1             0        12      43       683     714   \n",
       "TRINITY_DN25731_c0_g1_i1             3         9      64       160     219   \n",
       "TRINITY_DN4379_c1_g1_i1              1         1      26       386     414   \n",
       "TRINITY_DN39147_c0_g1_i1             0         6      52        21      67   \n",
       "\n",
       "                          e-value  score  \n",
       "ContigID                                  \n",
       "TRINITY_DN737_c0_g1_i7       0.00   4350  \n",
       "TRINITY_DN737_c0_g1_i2       0.00   4321  \n",
       "TRINITY_DN737_c0_g1_i1       0.00   4222  \n",
       "TRINITY_DN2220_c0_g1_i1      0.00   3600  \n",
       "TRINITY_DN2220_c0_g1_i5      0.00   3600  \n",
       "...                           ...    ...  \n",
       "TRINITY_DN7563_c1_g2_i1      9.99     68  \n",
       "TRINITY_DN11159_c0_g1_i1     9.99     67  \n",
       "TRINITY_DN25731_c0_g1_i1     9.99     67  \n",
       "TRINITY_DN4379_c1_g1_i1     10.00     67  \n",
       "TRINITY_DN39147_c0_g1_i1    10.00     66  \n",
       "\n",
       "[65931 rows x 12 columns]"
      ]
     },
     "execution_count": 11,
     "metadata": {},
     "output_type": "execute_result"
    }
   ],
   "source": [
    "sword = sword.sort_values(\n",
    "        by=['e-value', 'score'], ascending=[True, False]\n",
    "        ).drop_duplicates(\n",
    "    'ContigID', keep='first'\n",
    ").set_index('ContigID')\n",
    "sword"
   ]
  },
  {
   "cell_type": "markdown",
   "id": "5b93ff5b-e48a-4ea9-84ec-9e5d2c330b5f",
   "metadata": {},
   "source": [
    "### Inspect E-values from aligned orthologous genes before filtering by e-value"
   ]
  },
  {
   "cell_type": "code",
   "execution_count": 12,
   "id": "99f753e2-871b-4fd7-9c65-f55a36ed2546",
   "metadata": {
    "tags": []
   },
   "outputs": [
    {
     "data": {
      "text/plain": [
       "array([[<Axes: title={'center': 'e-value'}>]], dtype=object)"
      ]
     },
     "execution_count": 12,
     "metadata": {},
     "output_type": "execute_result"
    },
    {
     "data": {
      "image/png": "[encoded data removed]",
      "text/plain": [
       "<Figure size 640x480 with 1 Axes>"
      ]
     },
     "metadata": {},
     "output_type": "display_data"
    }
   ],
   "source": [
    "sword.hist(\"e-value\")"
   ]
  },
  {
   "cell_type": "markdown",
   "id": "090783cb-1cc7-49a0-bf75-a18683dd8262",
   "metadata": {},
   "source": [
    "### Inspect E-values from aligned orthologous genes after filtering by e-value\n",
    "\n",
    "We need to set a threshold:"
   ]
  },
  {
   "cell_type": "code",
   "execution_count": 13,
   "id": "ce8f9609-91d1-469e-8370-1326cc5054e5",
   "metadata": {
    "tags": []
   },
   "outputs": [],
   "source": [
    "evalue_threshold = 0.001"
   ]
  },
  {
   "cell_type": "code",
   "execution_count": 14,
   "id": "a174e5b6-a092-474a-b832-d770fc382f7f",
   "metadata": {
    "tags": []
   },
   "outputs": [],
   "source": [
    "sword = sword.loc[sword['e-value'] < evalue_threshold] "
   ]
  },
  {
   "cell_type": "code",
   "execution_count": 15,
   "id": "31f0a7a1-bf4a-4319-ab39-fb1be0b35e23",
   "metadata": {
    "tags": []
   },
   "outputs": [
    {
     "data": {
      "text/plain": [
       "array([[<Axes: title={'center': 'e-value'}>]], dtype=object)"
      ]
     },
     "execution_count": 15,
     "metadata": {},
     "output_type": "execute_result"
    },
    {
     "data": {
      "image/png": "[encoded data removed]",
      "text/plain": [
       "<Figure size 640x480 with 1 Axes>"
      ]
     },
     "metadata": {},
     "output_type": "display_data"
    }
   ],
   "source": [
    "sword.hist(\"e-value\")"
   ]
  },
  {
   "cell_type": "code",
   "execution_count": 16,
   "id": "3c455b9d-2113-4d81-a97f-c04973a8dc29",
   "metadata": {
    "tags": []
   },
   "outputs": [
    {
     "name": "stdout",
     "output_type": "stream",
     "text": [
      "There are 3986 unique orthologous genes\n"
     ]
    }
   ],
   "source": [
    "val = len(set(sword[\"Subject id\"]))\n",
    "print(f\"There are {val} unique orthologous genes\")"
   ]
  },
  {
   "cell_type": "markdown",
   "id": "bdeaacd7-2ef4-4441-adea-99df6cdb1390",
   "metadata": {
    "tags": []
   },
   "source": [
    "### Inspect % identity and aligment length"
   ]
  },
  {
   "cell_type": "code",
   "execution_count": 17,
   "id": "16ee4816-ee69-404f-be0e-566c7745b6fc",
   "metadata": {
    "tags": []
   },
   "outputs": [
    {
     "data": {
      "text/plain": [
       "array([[<Axes: title={'center': 'alignment length'}>]], dtype=object)"
      ]
     },
     "execution_count": 17,
     "metadata": {},
     "output_type": "execute_result"
    },
    {
     "data": {
      "image/png": "[encoded data removed]",
      "text/plain": [
       "<Figure size 640x480 with 1 Axes>"
      ]
     },
     "metadata": {},
     "output_type": "display_data"
    }
   ],
   "source": [
    "sword.hist(\"alignment length\")"
   ]
  },
  {
   "cell_type": "code",
   "execution_count": 18,
   "id": "a6b6775a-a1ee-403a-b908-f09fe46314d0",
   "metadata": {
    "tags": []
   },
   "outputs": [
    {
     "data": {
      "text/plain": [
       "array([[<Axes: title={'center': '% identity'}>]], dtype=object)"
      ]
     },
     "execution_count": 18,
     "metadata": {},
     "output_type": "execute_result"
    },
    {
     "data": {
      "image/png": "[encoded data removed]",
      "text/plain": [
       "<Figure size 640x480 with 1 Axes>"
      ]
     },
     "metadata": {},
     "output_type": "display_data"
    }
   ],
   "source": [
    "sword.hist(\"% identity\")"
   ]
  },
  {
   "cell_type": "markdown",
   "id": "a1bcae6d-70a5-4318-8206-2aaddf15bb62",
   "metadata": {},
   "source": [
    "### Merging aligned genes and count table\n",
    "First, we are going to drop all columns except for ContigsID and orthologous genes header (to obtain map table). "
   ]
  },
  {
   "cell_type": "code",
   "execution_count": 19,
   "id": "407b00ee-8a22-483c-9cf7-37a0abe76de4",
   "metadata": {
    "tags": []
   },
   "outputs": [
    {
     "data": {
      "text/html": [
       "<div>\n",
       "<style scoped>\n",
       "    .dataframe tbody tr th:only-of-type {\n",
       "        vertical-align: middle;\n",
       "    }\n",
       "\n",
       "    .dataframe tbody tr th {\n",
       "        vertical-align: top;\n",
       "    }\n",
       "\n",
       "    .dataframe thead th {\n",
       "        text-align: right;\n",
       "    }\n",
       "</style>\n",
       "<table border=\"1\" class=\"dataframe\">\n",
       "  <thead>\n",
       "    <tr style=\"text-align: right;\">\n",
       "      <th></th>\n",
       "      <th>Query id</th>\n",
       "      <th>Subject id</th>\n",
       "    </tr>\n",
       "    <tr>\n",
       "      <th>ContigID</th>\n",
       "      <th></th>\n",
       "      <th></th>\n",
       "    </tr>\n",
       "  </thead>\n",
       "  <tbody>\n",
       "    <tr>\n",
       "      <th>TRINITY_DN737_c0_g1_i7</th>\n",
       "      <td>TRINITY_DN737_c0_g1_i7_3</td>\n",
       "      <td>AAM83096.1|GT2</td>\n",
       "    </tr>\n",
       "    <tr>\n",
       "      <th>TRINITY_DN737_c0_g1_i2</th>\n",
       "      <td>TRINITY_DN737_c0_g1_i2_3</td>\n",
       "      <td>AAM83096.1|GT2</td>\n",
       "    </tr>\n",
       "    <tr>\n",
       "      <th>TRINITY_DN737_c0_g1_i1</th>\n",
       "      <td>TRINITY_DN737_c0_g1_i1_3</td>\n",
       "      <td>AAM83096.1|GT2</td>\n",
       "    </tr>\n",
       "    <tr>\n",
       "      <th>TRINITY_DN2220_c0_g1_i1</th>\n",
       "      <td>TRINITY_DN2220_c0_g1_i1_2</td>\n",
       "      <td>BAZ22996.1|GT35</td>\n",
       "    </tr>\n",
       "    <tr>\n",
       "      <th>TRINITY_DN2220_c0_g1_i5</th>\n",
       "      <td>TRINITY_DN2220_c0_g1_i5_2</td>\n",
       "      <td>BAZ22996.1|GT35</td>\n",
       "    </tr>\n",
       "    <tr>\n",
       "      <th>...</th>\n",
       "      <td>...</td>\n",
       "      <td>...</td>\n",
       "    </tr>\n",
       "    <tr>\n",
       "      <th>TRINITY_DN12940_c0_g1_i2</th>\n",
       "      <td>TRINITY_DN12940_c0_g1_i2_1</td>\n",
       "      <td>ABA49091.1|GT51</td>\n",
       "    </tr>\n",
       "    <tr>\n",
       "      <th>TRINITY_DN4181_c0_g1_i1</th>\n",
       "      <td>TRINITY_DN4181_c0_g1_i1_3</td>\n",
       "      <td>AAF10059.1|GT51</td>\n",
       "    </tr>\n",
       "    <tr>\n",
       "      <th>TRINITY_DN39517_c0_g1_i1</th>\n",
       "      <td>TRINITY_DN39517_c0_g1_i1_5</td>\n",
       "      <td>SCF08587.1|GT4</td>\n",
       "    </tr>\n",
       "    <tr>\n",
       "      <th>TRINITY_DN3288_c0_g1_i5</th>\n",
       "      <td>TRINITY_DN3288_c0_g1_i5_2</td>\n",
       "      <td>ABC20869.1|GT2</td>\n",
       "    </tr>\n",
       "    <tr>\n",
       "      <th>TRINITY_DN5617_c0_g2_i1</th>\n",
       "      <td>TRINITY_DN5617_c0_g2_i1_3</td>\n",
       "      <td>CBQ69184.1|GH16</td>\n",
       "    </tr>\n",
       "  </tbody>\n",
       "</table>\n",
       "<p>14069 rows × 2 columns</p>\n",
       "</div>"
      ],
      "text/plain": [
       "                                            Query id       Subject id\n",
       "ContigID                                                             \n",
       "TRINITY_DN737_c0_g1_i7      TRINITY_DN737_c0_g1_i7_3   AAM83096.1|GT2\n",
       "TRINITY_DN737_c0_g1_i2      TRINITY_DN737_c0_g1_i2_3   AAM83096.1|GT2\n",
       "TRINITY_DN737_c0_g1_i1      TRINITY_DN737_c0_g1_i1_3   AAM83096.1|GT2\n",
       "TRINITY_DN2220_c0_g1_i1    TRINITY_DN2220_c0_g1_i1_2  BAZ22996.1|GT35\n",
       "TRINITY_DN2220_c0_g1_i5    TRINITY_DN2220_c0_g1_i5_2  BAZ22996.1|GT35\n",
       "...                                              ...              ...\n",
       "TRINITY_DN12940_c0_g1_i2  TRINITY_DN12940_c0_g1_i2_1  ABA49091.1|GT51\n",
       "TRINITY_DN4181_c0_g1_i1    TRINITY_DN4181_c0_g1_i1_3  AAF10059.1|GT51\n",
       "TRINITY_DN39517_c0_g1_i1  TRINITY_DN39517_c0_g1_i1_5   SCF08587.1|GT4\n",
       "TRINITY_DN3288_c0_g1_i5    TRINITY_DN3288_c0_g1_i5_2   ABC20869.1|GT2\n",
       "TRINITY_DN5617_c0_g2_i1    TRINITY_DN5617_c0_g2_i1_3  CBQ69184.1|GH16\n",
       "\n",
       "[14069 rows x 2 columns]"
      ]
     },
     "execution_count": 19,
     "metadata": {},
     "output_type": "execute_result"
    }
   ],
   "source": [
    "map_table = sword[[\"Query id\",\"Subject id\"]]\n",
    "map_table"
   ]
  },
  {
   "cell_type": "markdown",
   "id": "7a7cc510-b6b3-4b2f-a84a-75fe989ac5f0",
   "metadata": {
    "tags": []
   },
   "source": [
    "Now, we are going to merge both files by their column in common (ContigID and Subject id)."
   ]
  },
  {
   "cell_type": "code",
   "execution_count": 20,
   "id": "7ad61d06-8a87-4dee-a173-b915153efed6",
   "metadata": {
    "tags": []
   },
   "outputs": [
    {
     "data": {
      "text/html": [
       "<div>\n",
       "<style scoped>\n",
       "    .dataframe tbody tr th:only-of-type {\n",
       "        vertical-align: middle;\n",
       "    }\n",
       "\n",
       "    .dataframe tbody tr th {\n",
       "        vertical-align: top;\n",
       "    }\n",
       "\n",
       "    .dataframe thead th {\n",
       "        text-align: right;\n",
       "    }\n",
       "</style>\n",
       "<table border=\"1\" class=\"dataframe\">\n",
       "  <thead>\n",
       "    <tr style=\"text-align: right;\">\n",
       "      <th></th>\n",
       "      <th>Query id</th>\n",
       "      <th>Subject id</th>\n",
       "      <th>Katie45</th>\n",
       "      <th>Katie54</th>\n",
       "      <th>Katie32</th>\n",
       "      <th>Katie25</th>\n",
       "    </tr>\n",
       "  </thead>\n",
       "  <tbody>\n",
       "    <tr>\n",
       "      <th>0</th>\n",
       "      <td>TRINITY_DN737_c0_g1_i7_3</td>\n",
       "      <td>AAM83096.1|GT2</td>\n",
       "      <td>94</td>\n",
       "      <td>0</td>\n",
       "      <td>62</td>\n",
       "      <td>94</td>\n",
       "    </tr>\n",
       "    <tr>\n",
       "      <th>1</th>\n",
       "      <td>TRINITY_DN737_c0_g1_i2_3</td>\n",
       "      <td>AAM83096.1|GT2</td>\n",
       "      <td>91</td>\n",
       "      <td>0</td>\n",
       "      <td>53</td>\n",
       "      <td>92</td>\n",
       "    </tr>\n",
       "    <tr>\n",
       "      <th>2</th>\n",
       "      <td>TRINITY_DN737_c0_g1_i1_3</td>\n",
       "      <td>AAM83096.1|GT2</td>\n",
       "      <td>64</td>\n",
       "      <td>0</td>\n",
       "      <td>33</td>\n",
       "      <td>75</td>\n",
       "    </tr>\n",
       "    <tr>\n",
       "      <th>3</th>\n",
       "      <td>TRINITY_DN2220_c0_g1_i1_2</td>\n",
       "      <td>BAZ22996.1|GT35</td>\n",
       "      <td>2</td>\n",
       "      <td>605</td>\n",
       "      <td>3</td>\n",
       "      <td>11</td>\n",
       "    </tr>\n",
       "    <tr>\n",
       "      <th>4</th>\n",
       "      <td>TRINITY_DN2220_c0_g1_i5_2</td>\n",
       "      <td>BAZ22996.1|GT35</td>\n",
       "      <td>2</td>\n",
       "      <td>640</td>\n",
       "      <td>2</td>\n",
       "      <td>13</td>\n",
       "    </tr>\n",
       "    <tr>\n",
       "      <th>...</th>\n",
       "      <td>...</td>\n",
       "      <td>...</td>\n",
       "      <td>...</td>\n",
       "      <td>...</td>\n",
       "      <td>...</td>\n",
       "      <td>...</td>\n",
       "    </tr>\n",
       "    <tr>\n",
       "      <th>12462</th>\n",
       "      <td>TRINITY_DN17852_c0_g1_i1_4</td>\n",
       "      <td>AAP42878.1|GT4</td>\n",
       "      <td>0</td>\n",
       "      <td>8</td>\n",
       "      <td>2</td>\n",
       "      <td>2</td>\n",
       "    </tr>\n",
       "    <tr>\n",
       "      <th>12463</th>\n",
       "      <td>TRINITY_DN12940_c0_g1_i2_1</td>\n",
       "      <td>ABA49091.1|GT51</td>\n",
       "      <td>0</td>\n",
       "      <td>24</td>\n",
       "      <td>0</td>\n",
       "      <td>1</td>\n",
       "    </tr>\n",
       "    <tr>\n",
       "      <th>12464</th>\n",
       "      <td>TRINITY_DN4181_c0_g1_i1_3</td>\n",
       "      <td>AAF10059.1|GT51</td>\n",
       "      <td>2</td>\n",
       "      <td>8</td>\n",
       "      <td>2</td>\n",
       "      <td>3</td>\n",
       "    </tr>\n",
       "    <tr>\n",
       "      <th>12465</th>\n",
       "      <td>TRINITY_DN3288_c0_g1_i5_2</td>\n",
       "      <td>ABC20869.1|GT2</td>\n",
       "      <td>5</td>\n",
       "      <td>0</td>\n",
       "      <td>7</td>\n",
       "      <td>5</td>\n",
       "    </tr>\n",
       "    <tr>\n",
       "      <th>12466</th>\n",
       "      <td>TRINITY_DN5617_c0_g2_i1_3</td>\n",
       "      <td>CBQ69184.1|GH16</td>\n",
       "      <td>4</td>\n",
       "      <td>0</td>\n",
       "      <td>6</td>\n",
       "      <td>2</td>\n",
       "    </tr>\n",
       "  </tbody>\n",
       "</table>\n",
       "<p>12467 rows × 6 columns</p>\n",
       "</div>"
      ],
      "text/plain": [
       "                         Query id       Subject id  Katie45  Katie54  Katie32  \\\n",
       "0        TRINITY_DN737_c0_g1_i7_3   AAM83096.1|GT2       94        0       62   \n",
       "1        TRINITY_DN737_c0_g1_i2_3   AAM83096.1|GT2       91        0       53   \n",
       "2        TRINITY_DN737_c0_g1_i1_3   AAM83096.1|GT2       64        0       33   \n",
       "3       TRINITY_DN2220_c0_g1_i1_2  BAZ22996.1|GT35        2      605        3   \n",
       "4       TRINITY_DN2220_c0_g1_i5_2  BAZ22996.1|GT35        2      640        2   \n",
       "...                           ...              ...      ...      ...      ...   \n",
       "12462  TRINITY_DN17852_c0_g1_i1_4   AAP42878.1|GT4        0        8        2   \n",
       "12463  TRINITY_DN12940_c0_g1_i2_1  ABA49091.1|GT51        0       24        0   \n",
       "12464   TRINITY_DN4181_c0_g1_i1_3  AAF10059.1|GT51        2        8        2   \n",
       "12465   TRINITY_DN3288_c0_g1_i5_2   ABC20869.1|GT2        5        0        7   \n",
       "12466   TRINITY_DN5617_c0_g2_i1_3  CBQ69184.1|GH16        4        0        6   \n",
       "\n",
       "       Katie25  \n",
       "0           94  \n",
       "1           92  \n",
       "2           75  \n",
       "3           11  \n",
       "4           13  \n",
       "...        ...  \n",
       "12462        2  \n",
       "12463        1  \n",
       "12464        3  \n",
       "12465        5  \n",
       "12466        2  \n",
       "\n",
       "[12467 rows x 6 columns]"
      ]
     },
     "execution_count": 20,
     "metadata": {},
     "output_type": "execute_result"
    }
   ],
   "source": [
    "df = pd.merge(map_table, counts, left_index=True, right_index=True).reset_index(drop=True)\n",
    "df"
   ]
  },
  {
   "cell_type": "markdown",
   "id": "3d9b1208-5fc9-4056-9089-1beeaa75c3b7",
   "metadata": {},
   "source": [
    "### Aggregate table\n",
    "Now, we are going to aggregate the rows by grouping by \"Subject id\" (notice the difference in rows between the previous table and the following):"
   ]
  },
  {
   "cell_type": "code",
   "execution_count": 21,
   "id": "75b4c8b5-9591-4243-8fb0-3258db020a46",
   "metadata": {
    "tags": []
   },
   "outputs": [
    {
     "data": {
      "text/html": [
       "<div>\n",
       "<style scoped>\n",
       "    .dataframe tbody tr th:only-of-type {\n",
       "        vertical-align: middle;\n",
       "    }\n",
       "\n",
       "    .dataframe tbody tr th {\n",
       "        vertical-align: top;\n",
       "    }\n",
       "\n",
       "    .dataframe thead th {\n",
       "        text-align: right;\n",
       "    }\n",
       "</style>\n",
       "<table border=\"1\" class=\"dataframe\">\n",
       "  <thead>\n",
       "    <tr style=\"text-align: right;\">\n",
       "      <th></th>\n",
       "      <th>Katie45</th>\n",
       "      <th>Katie54</th>\n",
       "      <th>Katie32</th>\n",
       "      <th>Katie25</th>\n",
       "    </tr>\n",
       "    <tr>\n",
       "      <th>Subject id</th>\n",
       "      <th></th>\n",
       "      <th></th>\n",
       "      <th></th>\n",
       "      <th></th>\n",
       "    </tr>\n",
       "  </thead>\n",
       "  <tbody>\n",
       "    <tr>\n",
       "      <th>AAA20560.1|GH15|3.2.1.3</th>\n",
       "      <td>0</td>\n",
       "      <td>10</td>\n",
       "      <td>0</td>\n",
       "      <td>2</td>\n",
       "    </tr>\n",
       "    <tr>\n",
       "      <th>AAA30255.1|GH33</th>\n",
       "      <td>22</td>\n",
       "      <td>176</td>\n",
       "      <td>47</td>\n",
       "      <td>31</td>\n",
       "    </tr>\n",
       "    <tr>\n",
       "      <th>AAA52077.1|CBM8|3.2.1.4</th>\n",
       "      <td>16</td>\n",
       "      <td>0</td>\n",
       "      <td>14</td>\n",
       "      <td>14</td>\n",
       "    </tr>\n",
       "    <tr>\n",
       "      <th>AAA52077.1|GH9|3.2.1.4</th>\n",
       "      <td>38</td>\n",
       "      <td>0</td>\n",
       "      <td>57</td>\n",
       "      <td>58</td>\n",
       "    </tr>\n",
       "    <tr>\n",
       "      <th>AAA59054.1|GT1|2.4.1.121</th>\n",
       "      <td>0</td>\n",
       "      <td>17</td>\n",
       "      <td>0</td>\n",
       "      <td>4</td>\n",
       "    </tr>\n",
       "    <tr>\n",
       "      <th>...</th>\n",
       "      <td>...</td>\n",
       "      <td>...</td>\n",
       "      <td>...</td>\n",
       "      <td>...</td>\n",
       "    </tr>\n",
       "    <tr>\n",
       "      <th>XP_503149.1|GH18</th>\n",
       "      <td>5</td>\n",
       "      <td>0</td>\n",
       "      <td>4</td>\n",
       "      <td>2</td>\n",
       "    </tr>\n",
       "    <tr>\n",
       "      <th>XP_504217.1|GH17</th>\n",
       "      <td>12</td>\n",
       "      <td>0</td>\n",
       "      <td>38</td>\n",
       "      <td>11</td>\n",
       "    </tr>\n",
       "    <tr>\n",
       "      <th>XP_959572.1|GH79</th>\n",
       "      <td>8</td>\n",
       "      <td>0</td>\n",
       "      <td>2</td>\n",
       "      <td>6</td>\n",
       "    </tr>\n",
       "    <tr>\n",
       "      <th>ZP_03681665.1|GT5</th>\n",
       "      <td>22</td>\n",
       "      <td>0</td>\n",
       "      <td>11</td>\n",
       "      <td>6</td>\n",
       "    </tr>\n",
       "    <tr>\n",
       "      <th>ZP_03682210.1|GH20</th>\n",
       "      <td>2</td>\n",
       "      <td>24</td>\n",
       "      <td>0</td>\n",
       "      <td>0</td>\n",
       "    </tr>\n",
       "  </tbody>\n",
       "</table>\n",
       "<p>3436 rows × 4 columns</p>\n",
       "</div>"
      ],
      "text/plain": [
       "                          Katie45  Katie54  Katie32  Katie25\n",
       "Subject id                                                  \n",
       "AAA20560.1|GH15|3.2.1.3         0       10        0        2\n",
       "AAA30255.1|GH33                22      176       47       31\n",
       "AAA52077.1|CBM8|3.2.1.4        16        0       14       14\n",
       "AAA52077.1|GH9|3.2.1.4         38        0       57       58\n",
       "AAA59054.1|GT1|2.4.1.121        0       17        0        4\n",
       "...                           ...      ...      ...      ...\n",
       "XP_503149.1|GH18                5        0        4        2\n",
       "XP_504217.1|GH17               12        0       38       11\n",
       "XP_959572.1|GH79                8        0        2        6\n",
       "ZP_03681665.1|GT5              22        0       11        6\n",
       "ZP_03682210.1|GH20              2       24        0        0\n",
       "\n",
       "[3436 rows x 4 columns]"
      ]
     },
     "execution_count": 21,
     "metadata": {},
     "output_type": "execute_result"
    }
   ],
   "source": [
    "df = df.groupby('Subject id').sum(numeric_only = True)\n",
    "df"
   ]
  },
  {
   "cell_type": "markdown",
   "id": "e16060fc-3363-4f9b-a4c7-40e7e64a64b5",
   "metadata": {},
   "source": [
    "## Annotating count table\n",
    "\n",
    "First, we define a functions for extracting the annotation from the header."
   ]
  },
  {
   "cell_type": "code",
   "execution_count": 22,
   "id": "cca7a10d",
   "metadata": {
    "tags": []
   },
   "outputs": [
    {
     "data": {
      "text/plain": [
       "TestResults(failed=0, attempted=7)"
      ]
     },
     "execution_count": 22,
     "metadata": {},
     "output_type": "execute_result"
    }
   ],
   "source": [
    "import re\n",
    "import doctest\n",
    "def extract_CAZyDB_id(x: str)-> list[str]:\n",
    "    \"\"\"\n",
    "    >>> extract_CAZyDB_id('XP_503149.1|GH18')\n",
    "    ['GH18']\n",
    "    >>> extract_CAZyDB_id('AAA52077.1|CBM8|3.2.1.4')\n",
    "    ['CBM8', '3.2.1.4']\n",
    "    \"\"\"\n",
    "    return x.split('|')[1:]\n",
    "\n",
    "def get_annotation_from_CAZyDB_id(x: list[str]) -> str:\n",
    "    \"\"\"\n",
    "    >>> get_annotation_from_CAZyDB_id(['GH31'])\n",
    "    'Glycoside Hydrolases'\n",
    "    >>> get_annotation_from_CAZyDB_id(['GT75'])\n",
    "    'GlycosylTransferases'\n",
    "    >>> get_annotation_from_CAZyDB_id(['AA5', 'CBM18'])\n",
    "    'Multiple enzyme class'\n",
    "    >>> get_annotation_from_CAZyDB_id(['CBM49', 'GH9'])\n",
    "    'Multiple enzyme class'\n",
    "    >>> get_annotation_from_CAZyDB_id(['QAT16263.1'])\n",
    "    ''\n",
    "    \"\"\"\n",
    "    symbols = {\n",
    "        \"GH\": \"Glycoside Hydrolases\", \"GT\": \"GlycosylTransferases\",\n",
    "        \"PL\": \"Polysaccharide Lyases\", \"CE\": \"Carbohydrate Esterases\",\n",
    "        \"AA\": \"Auxiliary Activities\", \"CBM\": \"Carbohydrate-Binding Modules\"}\n",
    "    checks = [any(ann in y for y in x) for ann in  symbols.keys()]\n",
    "    annotations = [list(symbols.keys())[i] for i, x in enumerate(checks) if x]\n",
    "    if sum(checks) == 0: return \"\"\n",
    "    if sum(checks) > 1: return \"Multiple enzyme class\"\n",
    "    return symbols[annotations[0]]\n",
    "    \n",
    "# Run tests\n",
    "doctest.testmod()"
   ]
  },
  {
   "cell_type": "markdown",
   "id": "e6a3d5de",
   "metadata": {},
   "source": [
    "Now we are going to create a new column with the functions. The format is fixed to match the previous implementation. "
   ]
  },
  {
   "cell_type": "code",
   "execution_count": 23,
   "id": "914150b4-842c-4e86-b40a-53bcc10c344f",
   "metadata": {
    "tags": []
   },
   "outputs": [
    {
     "data": {
      "text/plain": [
       "Subject id\n",
       "AAA20560.1|GH15|3.2.1.3     DB__CAZy; LevelI__Glycoside Hydrolases; LevelI...\n",
       "AAA30255.1|GH33             DB__CAZy; LevelI__Glycoside Hydrolases; LevelI...\n",
       "AAA52077.1|CBM8|3.2.1.4     DB__CAZy; LevelI__Carbohydrate-Binding Modules...\n",
       "AAA52077.1|GH9|3.2.1.4      DB__CAZy; LevelI__Glycoside Hydrolases; LevelI...\n",
       "AAA59054.1|GT1|2.4.1.121    DB__CAZy; LevelI__GlycosylTransferases; LevelI...\n",
       "                                                  ...                        \n",
       "XP_503149.1|GH18            DB__CAZy; LevelI__Glycoside Hydrolases; LevelI...\n",
       "XP_504217.1|GH17            DB__CAZy; LevelI__Glycoside Hydrolases; LevelI...\n",
       "XP_959572.1|GH79            DB__CAZy; LevelI__Glycoside Hydrolases; LevelI...\n",
       "ZP_03681665.1|GT5           DB__CAZy; LevelI__GlycosylTransferases; LevelI...\n",
       "ZP_03682210.1|GH20          DB__CAZy; LevelI__Glycoside Hydrolases; LevelI...\n",
       "Length: 3436, dtype: object"
      ]
     },
     "execution_count": 23,
     "metadata": {},
     "output_type": "execute_result"
    }
   ],
   "source": [
    "functions_df = pd.DataFrame(index=df.index)\n",
    "functions_df[f\"Level0\"] = \"DB__CAZy\"\n",
    "cazy_ids = [dict(enumerate(extract_CAZyDB_id(row))) for row in df.index]\n",
    "functions_df[\"Level1\"] = [f\"LevelI__{get_annotation_from_CAZyDB_id(list(row.values()))}\" for row in cazy_ids]\n",
    "n = 5 # To match the number of levels\n",
    "for index in range(n):\n",
    "    r = roman.toRoman(index+2)\n",
    "    prefix = f\"Level{r}__\"\n",
    "    functions_df[f\"Level{index+2}\"] = [f\"{prefix}{row.get(index, '')}\" for row in cazy_ids]\n",
    "functions = functions_df.reindex(\n",
    "    sorted(functions_df.columns), axis=1\n",
    "    ).astype(str).agg('; '.join, axis=1)\n",
    "functions"
   ]
  },
  {
   "cell_type": "code",
   "execution_count": 24,
   "id": "e18723c6",
   "metadata": {
    "tags": []
   },
   "outputs": [
    {
     "data": {
      "text/html": [
       "<div>\n",
       "<style scoped>\n",
       "    .dataframe tbody tr th:only-of-type {\n",
       "        vertical-align: middle;\n",
       "    }\n",
       "\n",
       "    .dataframe tbody tr th {\n",
       "        vertical-align: top;\n",
       "    }\n",
       "\n",
       "    .dataframe thead th {\n",
       "        text-align: right;\n",
       "    }\n",
       "</style>\n",
       "<table border=\"1\" class=\"dataframe\">\n",
       "  <thead>\n",
       "    <tr style=\"text-align: right;\">\n",
       "      <th></th>\n",
       "      <th>ContigID</th>\n",
       "      <th>Katie45</th>\n",
       "      <th>Katie54</th>\n",
       "      <th>Katie32</th>\n",
       "      <th>Katie25</th>\n",
       "      <th>Functions</th>\n",
       "    </tr>\n",
       "  </thead>\n",
       "  <tbody>\n",
       "    <tr>\n",
       "      <th>0</th>\n",
       "      <td>AAA20560.1|GH15|3.2.1.3</td>\n",
       "      <td>0</td>\n",
       "      <td>10</td>\n",
       "      <td>0</td>\n",
       "      <td>2</td>\n",
       "      <td>DB__CAZy; LevelI__Glycoside Hydrolases; LevelI...</td>\n",
       "    </tr>\n",
       "    <tr>\n",
       "      <th>1</th>\n",
       "      <td>AAA30255.1|GH33</td>\n",
       "      <td>22</td>\n",
       "      <td>176</td>\n",
       "      <td>47</td>\n",
       "      <td>31</td>\n",
       "      <td>DB__CAZy; LevelI__Glycoside Hydrolases; LevelI...</td>\n",
       "    </tr>\n",
       "    <tr>\n",
       "      <th>2</th>\n",
       "      <td>AAA52077.1|CBM8|3.2.1.4</td>\n",
       "      <td>16</td>\n",
       "      <td>0</td>\n",
       "      <td>14</td>\n",
       "      <td>14</td>\n",
       "      <td>DB__CAZy; LevelI__Carbohydrate-Binding Modules...</td>\n",
       "    </tr>\n",
       "    <tr>\n",
       "      <th>3</th>\n",
       "      <td>AAA52077.1|GH9|3.2.1.4</td>\n",
       "      <td>38</td>\n",
       "      <td>0</td>\n",
       "      <td>57</td>\n",
       "      <td>58</td>\n",
       "      <td>DB__CAZy; LevelI__Glycoside Hydrolases; LevelI...</td>\n",
       "    </tr>\n",
       "    <tr>\n",
       "      <th>4</th>\n",
       "      <td>AAA59054.1|GT1|2.4.1.121</td>\n",
       "      <td>0</td>\n",
       "      <td>17</td>\n",
       "      <td>0</td>\n",
       "      <td>4</td>\n",
       "      <td>DB__CAZy; LevelI__GlycosylTransferases; LevelI...</td>\n",
       "    </tr>\n",
       "    <tr>\n",
       "      <th>...</th>\n",
       "      <td>...</td>\n",
       "      <td>...</td>\n",
       "      <td>...</td>\n",
       "      <td>...</td>\n",
       "      <td>...</td>\n",
       "      <td>...</td>\n",
       "    </tr>\n",
       "    <tr>\n",
       "      <th>3431</th>\n",
       "      <td>XP_503149.1|GH18</td>\n",
       "      <td>5</td>\n",
       "      <td>0</td>\n",
       "      <td>4</td>\n",
       "      <td>2</td>\n",
       "      <td>DB__CAZy; LevelI__Glycoside Hydrolases; LevelI...</td>\n",
       "    </tr>\n",
       "    <tr>\n",
       "      <th>3432</th>\n",
       "      <td>XP_504217.1|GH17</td>\n",
       "      <td>12</td>\n",
       "      <td>0</td>\n",
       "      <td>38</td>\n",
       "      <td>11</td>\n",
       "      <td>DB__CAZy; LevelI__Glycoside Hydrolases; LevelI...</td>\n",
       "    </tr>\n",
       "    <tr>\n",
       "      <th>3433</th>\n",
       "      <td>XP_959572.1|GH79</td>\n",
       "      <td>8</td>\n",
       "      <td>0</td>\n",
       "      <td>2</td>\n",
       "      <td>6</td>\n",
       "      <td>DB__CAZy; LevelI__Glycoside Hydrolases; LevelI...</td>\n",
       "    </tr>\n",
       "    <tr>\n",
       "      <th>3434</th>\n",
       "      <td>ZP_03681665.1|GT5</td>\n",
       "      <td>22</td>\n",
       "      <td>0</td>\n",
       "      <td>11</td>\n",
       "      <td>6</td>\n",
       "      <td>DB__CAZy; LevelI__GlycosylTransferases; LevelI...</td>\n",
       "    </tr>\n",
       "    <tr>\n",
       "      <th>3435</th>\n",
       "      <td>ZP_03682210.1|GH20</td>\n",
       "      <td>2</td>\n",
       "      <td>24</td>\n",
       "      <td>0</td>\n",
       "      <td>0</td>\n",
       "      <td>DB__CAZy; LevelI__Glycoside Hydrolases; LevelI...</td>\n",
       "    </tr>\n",
       "  </tbody>\n",
       "</table>\n",
       "<p>3436 rows × 6 columns</p>\n",
       "</div>"
      ],
      "text/plain": [
       "                      ContigID  Katie45  Katie54  Katie32  Katie25  \\\n",
       "0      AAA20560.1|GH15|3.2.1.3        0       10        0        2   \n",
       "1              AAA30255.1|GH33       22      176       47       31   \n",
       "2      AAA52077.1|CBM8|3.2.1.4       16        0       14       14   \n",
       "3       AAA52077.1|GH9|3.2.1.4       38        0       57       58   \n",
       "4     AAA59054.1|GT1|2.4.1.121        0       17        0        4   \n",
       "...                        ...      ...      ...      ...      ...   \n",
       "3431          XP_503149.1|GH18        5        0        4        2   \n",
       "3432          XP_504217.1|GH17       12        0       38       11   \n",
       "3433          XP_959572.1|GH79        8        0        2        6   \n",
       "3434         ZP_03681665.1|GT5       22        0       11        6   \n",
       "3435        ZP_03682210.1|GH20        2       24        0        0   \n",
       "\n",
       "                                              Functions  \n",
       "0     DB__CAZy; LevelI__Glycoside Hydrolases; LevelI...  \n",
       "1     DB__CAZy; LevelI__Glycoside Hydrolases; LevelI...  \n",
       "2     DB__CAZy; LevelI__Carbohydrate-Binding Modules...  \n",
       "3     DB__CAZy; LevelI__Glycoside Hydrolases; LevelI...  \n",
       "4     DB__CAZy; LevelI__GlycosylTransferases; LevelI...  \n",
       "...                                                 ...  \n",
       "3431  DB__CAZy; LevelI__Glycoside Hydrolases; LevelI...  \n",
       "3432  DB__CAZy; LevelI__Glycoside Hydrolases; LevelI...  \n",
       "3433  DB__CAZy; LevelI__Glycoside Hydrolases; LevelI...  \n",
       "3434  DB__CAZy; LevelI__GlycosylTransferases; LevelI...  \n",
       "3435  DB__CAZy; LevelI__Glycoside Hydrolases; LevelI...  \n",
       "\n",
       "[3436 rows x 6 columns]"
      ]
     },
     "execution_count": 24,
     "metadata": {},
     "output_type": "execute_result"
    }
   ],
   "source": [
    "df[\"Functions\"] = functions\n",
    "df.reset_index(inplace=True)\n",
    "df.rename(columns={\"Subject id\": \"ContigID\"}, inplace=True)\n",
    "df"
   ]
  },
  {
   "cell_type": "code",
   "execution_count": 25,
   "id": "4f3552fa",
   "metadata": {
    "tags": []
   },
   "outputs": [],
   "source": [
    "df.to_csv('CaZY_sword_annotated_count_table.tsv', sep=\"\\t\", index=False)"
   ]
  }
 ],
 "metadata": {
  "kernelspec": {
   "display_name": "Python 3 (ipykernel)",
   "language": "python",
   "name": "python3"
  },
  "language_info": {
   "codemirror_mode": {
    "name": "ipython",
    "version": 3
   },
   "file_extension": ".py",
   "mimetype": "text/x-python",
   "name": "python",
   "nbconvert_exporter": "python",
   "pygments_lexer": "ipython3",
   "version": "3.10.6"
  }
 },
 "nbformat": 4,
 "nbformat_minor": 5
}
